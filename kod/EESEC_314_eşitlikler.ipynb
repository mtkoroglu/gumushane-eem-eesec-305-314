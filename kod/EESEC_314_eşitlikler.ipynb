{
  "nbformat": 4,
  "nbformat_minor": 0,
  "metadata": {
    "colab": {
      "name": "EESEC_314_eşitlikler.ipynb",
      "provenance": [],
      "authorship_tag": "ABX9TyMkAOevN9dCa4agEEGeMoMv",
      "include_colab_link": true
    },
    "kernelspec": {
      "name": "python3",
      "display_name": "Python 3"
    },
    "language_info": {
      "name": "python"
    }
  },
  "cells": [
    {
      "cell_type": "markdown",
      "metadata": {
        "id": "view-in-github",
        "colab_type": "text"
      },
      "source": [
        "<a href=\"https://colab.research.google.com/github/taha-koroglu/gumushane_eem_eesec314/blob/main/kod/EESEC_314_e%C5%9Fitlikler.ipynb\" target=\"_parent\"><img src=\"https://colab.research.google.com/assets/colab-badge.svg\" alt=\"Open In Colab\"/></a>"
      ]
    },
    {
      "cell_type": "markdown",
      "metadata": {
        "id": "a5R_B1qZb6Hx"
      },
      "source": [
        "$\\dot{x}(t) = Ax(t) + Bu(t) \\rightarrow \\text{durum denklemi} \\\\\n",
        "y(t) = Cx(t) + Du(t) \\rightarrow \\text{çıkış denklemi} \\\\\n",
        "T(s) = \\frac{Y(s)}{U(s)} = C(sI-A)^{-1}B + D$"
      ]
    },
    {
      "cell_type": "markdown",
      "metadata": {
        "id": "dP9RHXj9c5hN"
      },
      "source": [
        "$T(s) = \\displaystyle \\frac{\\displaystyle \\frac{1}{RC}}{\\displaystyle s+\\frac{1}{RC}}$"
      ]
    },
    {
      "cell_type": "markdown",
      "metadata": {
        "id": "MrKx-jYw2L-Q"
      },
      "source": [
        "$\\bf{\\dot{x}} = \\begin{bmatrix} \\dot{x_1} \\\\ \\dot{x2}\\end{bmatrix} = \\begin{bmatrix} 0 \\;\\;\\;\\;\\; 1 \\\\ 0 \\;\\; -\\frac{b}{m}\\end{bmatrix} \\begin{bmatrix} x_1 \\\\ x2\\end{bmatrix} + \\begin{bmatrix} 0 \\\\ \\frac{1}{m}\\end{bmatrix}u \\\\ y = \\begin{bmatrix} 1 \\;\\;\\; 0\\end{bmatrix}\\begin{bmatrix} x_1 \\\\ x2\\end{bmatrix}$"
      ]
    },
    {
      "cell_type": "markdown",
      "metadata": {
        "id": "uw5A0gkyoPJr"
      },
      "source": [
        "\\begin{equation}\n",
        "C(sI-A)^{-1}B + D\n",
        "\\end{equation}\n",
        "\n",
        "$\n",
        "x_1 \\triangleq \\theta \\;\\;\\;\\;\\; x_2 \\triangleq \\dot{\\theta} \\\\\n",
        "\\dot{x}_1(t) = x_2(t) \\\\\n",
        "\\dot{x}_2(t) = -\\displaystyle\\frac{g}{l}sin(x_1(t))-\\frac{b}{ml^2}x_2(t) \\\\\n",
        "y(t) = x_1(t)\n",
        "$\n",
        "\n",
        "\\begin{equation}\n",
        "\\frac{dV_C(t)}{dt} = -\\frac{1}{RC}V_C(t) +  \\frac{1}{RC}V_{cc} \\\\\n",
        "\\end{equation}\n",
        "\n",
        "Sistem modeli \\\\\n",
        "$\n",
        "\\dot{x}(t) = Ax(t) + Bu(t) \\\\\n",
        "y(t) = Cx(t) + Du(t)\n",
        "$"
      ]
    },
    {
      "cell_type": "markdown",
      "metadata": {
        "id": "wY9eRlJhTnTI"
      },
      "source": [
        "$u(t) = \\displaystyle K_pe(t) + K_i\\int_{t_0}^{t}e(k)dk + K_d\\frac{d}{dt}e(t)$"
      ]
    },
    {
      "cell_type": "markdown",
      "metadata": {
        "id": "3uP-AaBJvYXI"
      },
      "source": [
        "$\\dot{x}_1 = x_2$ \\\\\n",
        "$\\dot{x}_2 = x_3$ \\\\\n",
        "$\\dot{x}_3 = -6x_1-11x_2-6x_3$"
      ]
    },
    {
      "cell_type": "markdown",
      "metadata": {
        "id": "mJfGH9vPwL2-"
      },
      "source": [
        ""
      ]
    }
  ]
}