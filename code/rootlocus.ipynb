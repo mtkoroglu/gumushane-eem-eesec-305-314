{
  "nbformat": 4,
  "nbformat_minor": 0,
  "metadata": {
    "colab": {
      "name": "rootlocus.ipynb",
      "provenance": [],
      "authorship_tag": "ABX9TyP/hkTZZ5HWc0HbE4rv0kWu",
      "include_colab_link": true
    },
    "kernelspec": {
      "name": "python3",
      "display_name": "Python 3"
    },
    "language_info": {
      "name": "python"
    }
  },
  "cells": [
    {
      "cell_type": "markdown",
      "metadata": {
        "id": "view-in-github",
        "colab_type": "text"
      },
      "source": [
        "<a href=\"https://colab.research.google.com/github/mtkoroglu/gumushane-eem-eesec-305-314/blob/main/code/rootlocus.ipynb\" target=\"_parent\"><img src=\"https://colab.research.google.com/assets/colab-badge.svg\" alt=\"Open In Colab\"/></a>"
      ]
    },
    {
      "cell_type": "markdown",
      "source": [
        "Önceki dönemlerdeki **EESEC 305 Kontrol Sistemleri I** ve **EESEC 314 Kontrol Sistemleri II** derslerinde geri-beslemeli bir kontrol sisteminin blok diyagramına göz atmıştık. Burada hatırlamak gerekirse, kontrol edilmek istenen sistem doğrusal ise o zaman aşağıda *Şekil 1*'de verilen gibi bir akış diyagramına sahip oluruz."
      ],
      "metadata": {
        "id": "BWcWx0SO3y59"
      }
    },
    {
      "cell_type": "markdown",
      "source": [
        "<img src=\"https://drive.google.com/uc?id=1xs9K98mUPmY1uflo0o4nUcfAVcmKzFv8\" alt=\"geri beslemeli kontrol sistemi\" height=\"160\"/>\n",
        "\n",
        "*Şekil 1*: Doğrusal bir sistem için geri-beslemeli kontrol sistemi blok diyagramı."
      ],
      "metadata": {
        "id": "-uPNauUN2_mN"
      }
    },
    {
      "cell_type": "markdown",
      "source": [
        "Burada durum uzayı modelimizin matrisleri \n",
        "\n",
        "$A = \\begin{pmatrix} 0 & 1 & 0 \\\\ 0 & 0 & 1 \\\\ 0 & -2 & -3\\end{pmatrix}$\n",
        "\n",
        "$B = \\begin{pmatrix} 0 \\\\ 0 \\\\ 1\\end{pmatrix}$\n",
        "\n",
        "$C = \\begin{pmatrix} 1 & 1 & 0\\end{pmatrix}$\n",
        "\n",
        "olarak verilirse o zaman sistemin transfer fonksiyonu $C(sI-A)^{-1}B$ formülünü kullanarak\n",
        "\n",
        "$\\displaystyle \\frac{Y(s)}{U(s)} = \\frac{1}{s(s+1)(s+2)}$ \n",
        "\n",
        "olarak hesaplanabilir. Burada 3x3'lük matrisin tersini alma işlemi ve diğer matris çarpma işlemlerini derste MATLAB'da hem hazır hem de kendi yazdığımız komutlarla gerçekledik. Daha önce her zaman incelediğimiz sistemlerin transfer fonksiyonlarını elde ettik. Burada Kök Yer Eğrisi konusunda kontrol etmek istediğimiz dinamik sistemin değil de geri-beslemeli kontrol sisteminin tamamının transfer fonksiyonu ile ilgileniyoruz. Başka bir deyişle, çıkış sinyalimiz Y(s)'nin referans sinyalimiz R(s)'ye oranını bulup K kazancındaki değişimin transfer fonksiyonuna etkilerini (yani sistemin cevabındaki değişimi) gözlemlemek istiyoruz. Sistemin çıkışının girişe oranı olan Y(s)/U(s) ifadesini bulduk. Kontrol sinyali U(s) ile hata sinyali E(s) arasında \n",
        "\n",
        "$U(s) = KE(s)$\n",
        "\n",
        "şeklinde bir ilişkinin olduğunu yukarıdaki blok diyagramdan faydalanarak görebiliriz. Böylece \n",
        "\n",
        "$\\displaystyle \\frac{U(s)}{E(s)} = K$ \n",
        "\n",
        "buluruz. Yine blok diyagramdan \n",
        "\n",
        "$E(s)=R(s)-Y(s)$\n",
        "\n",
        "olduğunu da görebiliriz. Sonuç olarak R(s) ile Y(s) arasında matematiksel bir ifade bulmak istediğimizden ilk önce \n",
        "\n",
        "$\\frac{U(s)}{E(s)} = K$ \n",
        "\n",
        "ifadesinde $E(s)$ yerine $R(s) - Y(s)$ ifadesini koyalım ve \n",
        "\n",
        "$\\displaystyle \\frac{U(s)}{R(s)-Y(s)} = K$ \n",
        "\n",
        "ifadesini elde edelim. Başka bir ifadeyle \n",
        "\n",
        "$U(s) = K(R(s) - Y(s))$\n",
        "\n",
        "olur. Bu ifadeyi de $Y(s)/U(s)$ ifadesinde yerine koyarsak \n",
        "\n",
        "$\\displaystyle \\frac{Y(s)}{K(R(s) - Y(s)} = \\frac{1}{s(s+1)(s+1)}$ \n",
        "\n",
        "olur. İçler dışlar çarpımıyla devam edersek \n",
        "\n",
        "$s(s+1)(s+2)Y(s) = KR(s) - KY(s)$ \n",
        "\n",
        "elde ederiz. Buradan da *Şekil 1*'de görülen geri beslemeli kontrol sisteminin tamamının transfer fonksiyonu olan $R(s)/Y(s)$ ifadesini \n",
        "\n",
        "$\\displaystyle \\frac{R(s)}{Y(s)} = \\frac{K}{s(s+1)(s+2)+K}$\n",
        "\n",
        "olarak buluruz. Görüldüğü gibi bu transfer fonksiyonunun kutupları (i.e., paydanın kökleri) $K$ değiştikçe farklı değerler almaktadır ve bu değişen konumların çizimini (i.e., kök yer eğrisi - root locus) aşağıda *Şekil 2*'de görebilirsiniz. Her bir kutubun aldığı değerler farklı renkle çizdirilmiştir. Unutmayın; belirli bir K değeri için mavi, yeşil ve kırmızı grafikler üzerinde belirli bir kutup değeri vardır. Kazanç değiştikçe kökler beraber hareket ederler.\n",
        "\n",
        "<img src=\"https://drive.google.com/uc?id=1HgkudFEggWrDaJfujXgEM_p1VsB48-BV\" alt=\"root locus grafiği\" height=\"400\"/>\n",
        "\n",
        "*Şekil 2:* Kök yer eğrisi (root locus).\n",
        "\n",
        "### Kararlılık (Stability)\n"
      ],
      "metadata": {
        "id": "g1I8yaig3Un1"
      }
    },
    {
      "cell_type": "code",
      "execution_count": null,
      "metadata": {
        "id": "VfOzMsmY25Fp"
      },
      "outputs": [],
      "source": [
        ""
      ]
    }
  ]
}